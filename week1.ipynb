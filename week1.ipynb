{
  "cells": [
    {
      "cell_type": "markdown",
      "metadata": {
        "id": "KFLM7O407pTa"
      },
      "source": [
        "1. Write a Python program to find those numbers which are divisible by 8 and multiple of 5, between 1000 and 2000 (both included)"
      ]
    },
    {
      "cell_type": "code",
      "execution_count": 2,
      "metadata": {
        "colab": {
          "base_uri": "https://localhost:8080/"
        },
        "id": "uacC8kGa6pB4",
        "outputId": "9bef16b3-f370-41f6-b34c-efee09344685"
      },
      "outputs": [
        {
          "name": "stdout",
          "output_type": "stream",
          "text": [
            "1000, 1040, 1080, 1120, 1160, 1200, 1240, 1280, 1320, 1360, 1400, 1440, 1480, 1520, 1560, 1600, 1640, 1680, 1720, 1760, 1800, 1840, 1880, 1920, 1960, 2000, "
          ]
        }
      ],
      "source": [
        "#1\n",
        "for i in range (1000,2001):\n",
        "    if(i%8==0 and i%5==0):\n",
        "        print(i,end=\", \")"
      ]
    },
    {
      "cell_type": "markdown",
      "metadata": {
        "id": "F0T0ndNT7yYK"
      },
      "source": [
        "2. Write a Python program to guess a number between 1 to 9. Note :\n",
        "User is prompted to enter a guess. If the user guesses wrong then the\n",
        "prompt appears again until the guess is correct, on successful guess, user\n",
        "will get a &quot;Well guessed!&quot; message, and the program will exit."
      ]
    },
    {
      "cell_type": "code",
      "execution_count": null,
      "metadata": {
        "id": "3hbmXTmP6pB-",
        "outputId": "6613878a-570e-44e1-f400-e26f59bba795"
      },
      "outputs": [
        {
          "name": "stdout",
          "output_type": "stream",
          "text": [
            "Well guessed!\n"
          ]
        }
      ],
      "source": [
        "#2 \n",
        "while True:\n",
        "    inp = int(input(\"Guess a number smaller than 9: \"))\n",
        "    if(inp<9):\n",
        "        print(\"Well guessed!\")\n",
        "        break\n",
        "\n"
      ]
    },
    {
      "cell_type": "markdown",
      "metadata": {
        "id": "hC1Qlj5w724H"
      },
      "source": [
        "3. Write a Python program to construct the following pattern, using a nested\n",
        "for loop.\n"
      ]
    },
    {
      "cell_type": "code",
      "execution_count": null,
      "metadata": {
        "id": "9QS0QxyI6pB_",
        "outputId": "8e1d9461-97f5-4235-a1af-df61f6a1844c"
      },
      "outputs": [
        {
          "name": "stdout",
          "output_type": "stream",
          "text": [
            "*\n",
            "**\n",
            "***\n",
            "****\n",
            "*****\n",
            "******\n",
            "****\n",
            "***\n",
            "**\n",
            "*\n"
          ]
        }
      ],
      "source": [
        "#3\n",
        "for i in range (6):\n",
        "    for j in range (i+1):\n",
        "        print(\"*\",end=\"\")\n",
        "    print(\"\")\n",
        "    \n",
        "\n",
        "   \n",
        "for i in range (4,0,-1):\n",
        "    for j in range (i,0,-1):\n",
        "        print(\"*\",end=\"\")\n",
        "    print(\"\")"
      ]
    },
    {
      "cell_type": "markdown",
      "metadata": {
        "id": "vsWoqaG68KFh"
      },
      "source": [
        "4. Write a Python program that accepts a word from the user and\n",
        " reverse it. ( should not use any functions)"
      ]
    },
    {
      "cell_type": "code",
      "execution_count": null,
      "metadata": {
        "colab": {
          "base_uri": "https://localhost:8080/"
        },
        "id": "iTfk0JZ06pCA",
        "outputId": "29c6948f-ed61-4346-c82f-f5e55256ee4e"
      },
      "outputs": [
        {
          "name": "stdout",
          "output_type": "stream",
          "text": [
            "enter any string: hello there\n",
            "ereht olleh\n"
          ]
        }
      ],
      "source": [
        "#4\n",
        "str = input(\"enter any string: \")\n",
        "rev = \"\"\n",
        "for i in range(len(str)):\n",
        "    rev = str[i] + rev\n",
        "print(rev)\n",
        "\n"
      ]
    },
    {
      "cell_type": "markdown",
      "metadata": {
        "id": "mByETB878Zfs"
      },
      "source": [
        "5. Write a Python program which takes two digits m (row) and n\n",
        "(column) as input and generates a two-dimensional array. The element\n",
        "value in the i-th row and j-th column of the array should be i*j. Note :\n",
        "i = 0,1.., m-1\n",
        "j = 0,1, n-1.\n",
        "Test Data : Rows = 3, Columns = 4\n",
        "Expected Result : [[0, 0, 0, 0], [0, 1, 2, 3], [0, 2, 4, 6]]"
      ]
    },
    {
      "cell_type": "code",
      "execution_count": null,
      "metadata": {
        "colab": {
          "base_uri": "https://localhost:8080/"
        },
        "id": "nz_4gs4q6pCA",
        "outputId": "b45e24c3-fa50-4a9f-9902-a355e245961d"
      },
      "outputs": [
        {
          "name": "stdout",
          "output_type": "stream",
          "text": [
            "Enter the length of row: 5\n",
            "Enter the length of column: 5\n",
            "0 0 0 0 0 \n",
            "0 1 2 3 4 \n",
            "0 2 4 6 8 \n",
            "0 3 6 9 12 \n",
            "0 4 8 12 16 \n"
          ]
        }
      ],
      "source": [
        "#5\n",
        "m = int(input(\"Enter the length of row: \"))\n",
        "n = int(input(\"Enter the length of column: \"))\n",
        "\n",
        "for i in range(m):\n",
        "    for j in range(n):\n",
        "        print(i*j, end=\" \")\n",
        "    print(\"\")\n"
      ]
    },
    {
      "cell_type": "markdown",
      "metadata": {
        "id": "35lXvQEa8k52"
      },
      "source": [
        "6. Write a Python program that accepts a string and calculate the\n",
        "number of digits and letters. \n",
        "##### Sample Data : SRMIST 2022\n",
        "Expected Output :\n",
        "Letters 6\n",
        "Digits 4"
      ]
    },
    {
      "cell_type": "code",
      "execution_count": null,
      "metadata": {
        "colab": {
          "base_uri": "https://localhost:8080/"
        },
        "id": "lAgeorYz6pCB",
        "outputId": "7a37128c-908f-4943-ef42-2d4d8b45c7c9"
      },
      "outputs": [
        {
          "name": "stdout",
          "output_type": "stream",
          "text": [
            "Enter any string: hello gthere1234\n",
            "Letters  11\n",
            "Digits  4\n"
          ]
        }
      ],
      "source": [
        "#6\n",
        "str = input(\"Enter any string: \")\n",
        "letter = 0\n",
        "dig = 0\n",
        "for i in str:\n",
        "    if i.isalpha():\n",
        "        letter = letter+1\n",
        "    if i.isdigit():\n",
        "        dig = dig+1\n",
        "print(\"Letters \", letter)\n",
        "print(\"Digits \", dig)\n"
      ]
    },
    {
      "cell_type": "markdown",
      "metadata": {
        "id": "HoAySiGX9Jxo"
      },
      "source": [
        "7. Write a Python program to check the validity of password input by users.\n",
        "Validation :\n",
        "\n",
        "#####● At least 1 letter between [a-z] and 1 letter between [A-Z].\n",
        "● At least 1 number between [0-9].\n",
        "#####● At least 1 character from [$#@].\n",
        "● Minimum length 6 characters.\n",
        "#####● Maximum length 16 characters.\n",
        "Sample output\n",
        "######Input your password srmist@2017\n",
        "Not a Valid Password\n",
        "#####Input your password Srmist@2022\n",
        "Valid Password"
      ]
    },
    {
      "cell_type": "code",
      "execution_count": null,
      "metadata": {
        "id": "Pdm8ilmb6pCC"
      },
      "outputs": [],
      "source": [
        "#7\n",
        "str = input(\"Enter any string: \")\n",
        "alphab = False\n",
        "numb = False\n",
        "charb = False\n",
        "upperb = False\n",
        "lowerb = False\n",
        "l = len(str)\n",
        "for i in str:\n",
        "    if(len(str) < 6 or len(str) > 16):\n",
        "        break\n",
        "\n",
        "    if(i.isalpha()):\n",
        "        alphab = True\n",
        "    if(i.isupper()):\n",
        "        upperb = True\n",
        "    if(i.islower()):\n",
        "        lowerb = True\n",
        "    if(i.isdigit()):\n",
        "        numb = True\n",
        "    if((str.find('$') != -1) or (str.find('#') != -1) or (str.find('@') != -1)):\n",
        "        charb = True\n",
        "\n",
        "if(alphab and numb and charb and upperb and lowerb):\n",
        "    print(\"Valid Password\")\n",
        "else:\n",
        "    print(\"Not a Valid Password\")\n"
      ]
    },
    {
      "cell_type": "markdown",
      "metadata": {
        "id": "eEklZ3Y49nV_"
      },
      "source": [
        "8. Write a Python program to find numbers between 100 and 400\n",
        "(both included) where each digit of a number is an even number. The\n",
        "numbers obtained should be printed in a comma-separated sequence."
      ]
    },
    {
      "cell_type": "code",
      "execution_count": null,
      "metadata": {
        "id": "U04Ct-XS6pCD",
        "outputId": "277237f1-390f-405e-b451-a57ba8bc073f"
      },
      "outputs": [
        {
          "name": "stdout",
          "output_type": "stream",
          "text": [
            "200, 202, 204, 206, 208, 220, 222, 224, 226, 228, 240, 242, 244, 246, 248, 260, 262, 264, 266, 268, 280, 282, 284, 286, 288, 400, "
          ]
        }
      ],
      "source": [
        "#8\n",
        "for i in range(100, 401):\n",
        "    i = str(i)\n",
        "    a = int(i[0])\n",
        "    b = int(i[1])\n",
        "    c = int(i[2])\n",
        "    if(a % 2 == 0 and b % 2 == 0 and c % 2 == 0):\n",
        "        print(i, end=\", \")\n"
      ]
    },
    {
      "cell_type": "markdown",
      "metadata": {
        "id": "_6G38X5g9wGr"
      },
      "source": [
        "9. Write a Python program to convert month name to a number of\n",
        "days."
      ]
    },
    {
      "cell_type": "code",
      "execution_count": null,
      "metadata": {
        "id": "GNh8zep16pCE",
        "outputId": "91b75733-24e6-4a35-f577-161ae992c55e"
      },
      "outputs": [
        {
          "name": "stdout",
          "output_type": "stream",
          "text": [
            "31\n"
          ]
        }
      ],
      "source": [
        "#9\n",
        "monthName = input()\n",
        "\n",
        "if(monthName.lower() == \"january\" or monthName.lower() == \"march\" or monthName.lower() == \"may\" or monthName.lower() == \"july\" or monthName.lower() == \"august\" or monthName.lower() == \"october\" or monthName.lower() == \"december\"):\n",
        "    print(31)\n",
        "elif(monthName.lower() == \"february\"):\n",
        "    print(28)\n",
        "else:\n",
        "    print(30)\n"
      ]
    },
    {
      "cell_type": "markdown",
      "metadata": {
        "id": "A7rO3_3L97KU"
      },
      "source": [
        "10. Write a Python program to sum of two given integers. However, if\n",
        "the sum is between 105 to 200 it will return 200."
      ]
    },
    {
      "cell_type": "code",
      "execution_count": null,
      "metadata": {
        "id": "zrqU51mn6pCF",
        "outputId": "1e3e46e8-7f23-49b4-ec12-7b1befe99c4e"
      },
      "outputs": [
        {
          "name": "stdout",
          "output_type": "stream",
          "text": [
            "200\n"
          ]
        }
      ],
      "source": [
        "#10\n",
        "a = int(input())\n",
        "b = int(input())\n",
        "c = a+b\n",
        "if(c >= 105 and c <= 200):\n",
        "    print(200)\n",
        "else:\n",
        "    print(c)\n"
      ]
    },
    {
      "cell_type": "markdown",
      "metadata": {
        "id": "mMhhUIPC-ItW"
      },
      "source": [
        "11. Write a Python program to construct the following pattern, using a\n",
        "nested loop number."
      ]
    },
    {
      "cell_type": "code",
      "execution_count": null,
      "metadata": {
        "colab": {
          "base_uri": "https://localhost:8080/"
        },
        "id": "rqHedxRn6pCG",
        "outputId": "ea4cc288-74be-4c2b-bc6b-51d431a02314"
      },
      "outputs": [
        {
          "name": "stdout",
          "output_type": "stream",
          "text": [
            "999999999\n",
            "88888888\n",
            "7777777\n",
            "666666\n",
            "55555\n",
            "4444\n",
            "333\n",
            "22\n",
            "1\n"
          ]
        }
      ],
      "source": [
        "#11\n",
        "for i in range(9, 0, -1):\n",
        "    for j in range(i):\n",
        "        print(i, end=\"\")\n",
        "    print()\n"
      ]
    },
    {
      "cell_type": "markdown",
      "metadata": {
        "id": "bReR9rnw-UYb"
      },
      "source": [
        "12. Write a Python program to create a histogram from a given list of\n",
        "integers"
      ]
    },
    {
      "cell_type": "code",
      "execution_count": null,
      "metadata": {
        "id": "FUlWiB9S6pCG",
        "outputId": "09e296f8-c02a-4aec-edf5-1fc2861f09cc"
      },
      "outputs": [
        {
          "name": "stdout",
          "output_type": "stream",
          "text": [
            "**\n",
            "***\n",
            "******\n",
            "*****\n"
          ]
        }
      ],
      "source": [
        "#12\n",
        "def histogram(items):\n",
        "    for n in items:\n",
        "        output = ''\n",
        "        times = n\n",
        "        while(times > 0):\n",
        "            output += '*'\n",
        "            times = times - 1\n",
        "        print(output)\n",
        "\n",
        "\n",
        "histogram([2, 3, 6, 5])\n"
      ]
    },
    {
      "cell_type": "markdown",
      "metadata": {
        "id": "0nPd17sS-a9O"
      },
      "source": [
        "13. Write a Python program that will return true if the two given\n",
        "integer values are equal or their sum or difference is 5."
      ]
    },
    {
      "cell_type": "code",
      "execution_count": null,
      "metadata": {
        "id": "tg9YYJkc6pCH",
        "outputId": "9c565900-d8ce-45be-ab8e-dcf4676c4425"
      },
      "outputs": [
        {
          "name": "stdout",
          "output_type": "stream",
          "text": [
            "True\n"
          ]
        }
      ],
      "source": [
        "#13\n",
        "a = int(input())\n",
        "b = int(input())\n",
        "\n",
        "if(a == b or a-b == 5 or b-a == 5):\n",
        "    print(\"True\")\n"
      ]
    },
    {
      "cell_type": "markdown",
      "metadata": {
        "id": "IRYZKd8m-ha_"
      },
      "source": [
        "14. Write a Python program to compute the distance between the\n",
        "points (x1, y1) and (x2, y2)."
      ]
    },
    {
      "cell_type": "code",
      "execution_count": null,
      "metadata": {
        "id": "lqlWfg9K6pCH",
        "outputId": "478016b4-f98c-4079-816c-c2a24affcf5b"
      },
      "outputs": [
        {
          "name": "stdout",
          "output_type": "stream",
          "text": [
            "6.324555320336759\n"
          ]
        }
      ],
      "source": [
        "#14\n",
        "import math\n",
        "p1 = [4, 0]\n",
        "p2 = [6, 6]\n",
        "distance = math.sqrt(((p1[0]-p2[0])**2)+((p1[1]-p2[1])**2))\n",
        "\n",
        "print(distance)\n"
      ]
    },
    {
      "cell_type": "markdown",
      "metadata": {
        "id": "hv9NarHS-mYe"
      },
      "source": [
        "15. Function that takes a sequence of numbers and determines whether\n",
        "all are different from each other"
      ]
    },
    {
      "cell_type": "code",
      "execution_count": null,
      "metadata": {
        "id": "ovsvVSgk6pCI",
        "outputId": "db6c5ad3-741e-4cf3-d68e-1f360fd10603"
      },
      "outputs": [
        {
          "name": "stdout",
          "output_type": "stream",
          "text": [
            "Duplicates present\n"
          ]
        }
      ],
      "source": [
        "#15\n",
        "list=[2,8,9,7,7]\n",
        "\n",
        "if(len(list)==len(set(list))):\n",
        "    print(\"No duplicates\")\n",
        "else:\n",
        "    print(\"Duplicates present\")"
      ]
    },
    {
      "cell_type": "markdown",
      "metadata": {
        "id": "bWPyayth-syW"
      },
      "source": [
        "16. Write a Python program to count the number of each character of a\n",
        "given text"
      ]
    },
    {
      "cell_type": "code",
      "execution_count": null,
      "metadata": {
        "id": "uhnVKQHs6pCI",
        "outputId": "e432c733-7079-48c4-b593-87780458202a"
      },
      "outputs": [
        {
          "name": "stdout",
          "output_type": "stream",
          "text": [
            "{'h': 2, 'i': 1, ' ': 1, 't': 1, 'e': 2, 'r': 1}\n"
          ]
        }
      ],
      "source": [
        "#Question 16\n",
        "str1=input()\n",
        "dict = {}\n",
        "for n in str1:\n",
        "        keys = dict.keys()\n",
        "        if n in keys:\n",
        "            dict[n] += 1\n",
        "        else:\n",
        "            dict[n] = 1\n",
        "            \n",
        "print(dict)"
      ]
    },
    {
      "cell_type": "markdown",
      "metadata": {
        "id": "drO6BieG-xW7"
      },
      "source": [
        "17. Write a Python program that accept a positive number and subtract\n",
        "from this number the sum of its digits and so on. Continues this operation\n",
        "until the number is positive."
      ]
    },
    {
      "cell_type": "code",
      "execution_count": null,
      "metadata": {
        "id": "_Up9sGIi6pCJ"
      },
      "outputs": [],
      "source": [
        "#17\n",
        "\n",
        "a=int(input())\n",
        "def getSum(n):\n",
        "    \n",
        "    sum = 0\n",
        "    while (n > 0):\n",
        "       \n",
        "        sum = sum + (n % 10)\n",
        "        n = n//10\n",
        "       \n",
        "    return sum\n",
        "while(True):\n",
        "    if(a-sum(a)):\n",
        "        break\n",
        "    else:\n",
        "        a=(a-sum)"
      ]
    },
    {
      "cell_type": "markdown",
      "metadata": {
        "id": "1J8rYP57_Axj"
      },
      "source": [
        " 18. Write a Python program to find the digits which are absent in a\n",
        "given mobile number."
      ]
    },
    {
      "cell_type": "code",
      "execution_count": null,
      "metadata": {
        "id": "yOi0nMXJ6pCJ",
        "outputId": "5cec5917-bafb-4d26-bd8f-4ee661bcc221"
      },
      "outputs": [
        {
          "name": "stdout",
          "output_type": "stream",
          "text": [
            "1 3 4 8 "
          ]
        }
      ],
      "source": [
        "#18\n",
        "import sys\n",
        "while(True):\n",
        "    phone_no=(input())\n",
        "    if(len(phone_no)==10):\n",
        "        dict={\"0\":0,\"1\":0,\"2\":0,\"3\":0,\"4\":0,\"5\":0,\"6\":0,\"7\":0,\"8\":0,\"9\":0}\n",
        "        for i in phone_no:\n",
        "            dict[i]+=1\n",
        "    \n",
        "        for key in dict:\n",
        "            if(dict[key]==0):\n",
        "        \n",
        "                print(key,end=\" \")\n",
        "        break\n",
        "    else:\n",
        "        print(\"Enter valid phone no\")"
      ]
    },
    {
      "cell_type": "markdown",
      "metadata": {
        "id": "mK_x96v4_IHn"
      },
      "source": [
        "19. Write a Python program to reverse the digits of a given number and\n",
        "add it to the original, If the sum is not a palindrome repeat this procedure"
      ]
    },
    {
      "cell_type": "code",
      "execution_count": null,
      "metadata": {
        "id": "webwmC-M6pCK",
        "outputId": "05f986ae-1bde-499e-f461-5ff696c6924d"
      },
      "outputs": [
        {
          "name": "stdout",
          "output_type": "stream",
          "text": [
            "484\n"
          ]
        }
      ],
      "source": [
        "#19\n",
        "\n",
        "        \n",
        "while(True):\n",
        "    a=((input()))\n",
        "    sum = int(a) + int(a[::-1])\n",
        "   \n",
        "    sum = str(sum)\n",
        "    if(sum==sum[::-1]):\n",
        "        print(sum)\n",
        "        break"
      ]
    },
    {
      "cell_type": "markdown",
      "metadata": {
        "id": "03hLoMmb_UHZ"
      },
      "source": [
        "20. Write a Python program to print the length of the series and the series\n",
        "from the given 3rd term, 3rd last term and the sum of a series."
      ]
    },
    {
      "cell_type": "code",
      "execution_count": null,
      "metadata": {
        "colab": {
          "base_uri": "https://localhost:8080/"
        },
        "id": "8zKY30Q26pCK",
        "outputId": "8bc645cb-8349-4406-8ee4-35f0c7045373"
      },
      "outputs": [
        {
          "name": "stdout",
          "output_type": "stream",
          "text": [
            "20\n",
            "30\n",
            "40\n",
            "0.5714285714285714\n"
          ]
        }
      ],
      "source": [
        "#20\n",
        "q =int(input())\n",
        "third=int(input())\n",
        "third_last = int(input())\n",
        "print((2*q)/(third+third_last))4\n"
      ]
    }
  ],
  "metadata": {
    "colab": {
      "name": "week1.ipynb",
      "provenance": []
    },
    "interpreter": {
      "hash": "8d1942abd057456d262dcfa9360a4daaed889b986cec42f0eaa405f4d7997a30"
    },
    "kernelspec": {
      "display_name": "Python 3.9.7 ('base')",
      "language": "python",
      "name": "python3"
    },
    "language_info": {
      "codemirror_mode": {
        "name": "ipython",
        "version": 3
      },
      "file_extension": ".py",
      "mimetype": "text/x-python",
      "name": "python",
      "nbconvert_exporter": "python",
      "pygments_lexer": "ipython3",
      "version": "3.9.7"
    },
    "orig_nbformat": 4
  },
  "nbformat": 4,
  "nbformat_minor": 0
}
