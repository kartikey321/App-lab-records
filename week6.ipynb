{
 "cells": [
  {
   "cell_type": "markdown",
   "metadata": {},
   "source": [
    "1. Modify the provided ReverseHelloMultithreaded file so that it creates a thread (let&#39;s call it\n",
    "Thread 1)."
   ]
  },
  {
   "cell_type": "code",
   "execution_count": 1,
   "metadata": {},
   "outputs": [
    {
     "name": "stdout",
     "output_type": "stream",
     "text": [
      "Hello from thread 50\n",
      "Hello from thread 49\n",
      "Hello from thread 48\n",
      "Hello from thread 47\n",
      "Hello from thread 46\n",
      "Hello from thread 45\n",
      "Hello from thread 44\n",
      "Hello from thread 43\n",
      "Hello from thread 42\n",
      "Hello from thread 41\n",
      "Hello from thread 40\n",
      "Hello from thread 39\n",
      "Hello from thread 38\n",
      "Hello from thread 37\n",
      "Hello from thread 36\n",
      "Hello from thread 35\n",
      "Hello from thread 34\n",
      "Hello from thread 33\n",
      "Hello from thread 32\n",
      "Hello from thread 31\n",
      "Hello from thread 30\n",
      "Hello from thread 29\n",
      "Hello from thread 28\n",
      "Hello from thread 27\n",
      "Hello from thread 26\n",
      "Hello from thread 25\n",
      "Hello from thread 24\n",
      "Hello from thread 23\n",
      "Hello from thread 22\n",
      "Hello from thread 21\n",
      "Hello from thread 20\n",
      "Hello from thread 19\n",
      "Hello from thread 18\n",
      "Hello from thread 17\n",
      "Hello from thread 16\n",
      "Hello from thread 15\n",
      "Hello from thread 14\n",
      "Hello from thread 13\n",
      "Hello from thread 12\n",
      "Hello from thread 11\n",
      "Hello from thread 10\n",
      "Hello from thread 9\n",
      "Hello from thread 8\n",
      "Hello from thread 7\n",
      "Hello from thread 6\n",
      "Hello from thread 5\n",
      "Hello from thread 4\n",
      "Hello from thread 3\n",
      "Hello from thread 2\n",
      "Hello from thread 1\n"
     ]
    }
   ],
   "source": [
    "import time \n",
    "import threading\n",
    "from threading import *\n",
    "\n",
    "def hello_world(i):\n",
    "    print(f'Hello from thread {i}')\n",
    "    \n",
    "threadlist=[]\n",
    "for i in range(1,51):\n",
    "    threaditem = Thread(target=hello_world,args=(i,))\n",
    "    threadlist.append(threaditem)\n",
    "    \n",
    "for i in range(1,51):\n",
    "    a=threadlist.pop()\n",
    "    a.start()"
   ]
  },
  {
   "cell_type": "markdown",
   "metadata": {},
   "source": [
    "2. In computing, the producer-consumer problem (also known as the bounded-buffer\n",
    "problem) is a classic example of a multi-process synchronization problem. The problem\n",
    "describes two processes, the producer and the consumer, which share a common, fixed-size\n",
    "buffer used as a queue."
   ]
  },
  {
   "cell_type": "code",
   "execution_count": 2,
   "metadata": {},
   "outputs": [
    {
     "name": "stdout",
     "output_type": "stream",
     "text": [
      "producer produced 4\n",
      "consumer consumed 0\n",
      "consumer consumed 1\n",
      "consumer consumed 2\n",
      "consumer consumed 3\n",
      "consumer consumed 4\n"
     ]
    }
   ],
   "source": [
    "import time \n",
    "import threading\n",
    "arraysize = threading.Semaphore(5)\n",
    "availableSemaphore =5\n",
    "data=[]\n",
    "arrayEmptyLock = threading.Event()\n",
    "arrayFullLock = threading.Event()\n",
    "\n",
    "def producer():\n",
    "    global availableSemaphore\n",
    "    global data\n",
    "    for i in range(5):\n",
    "      if(availableSemaphore==0):\n",
    "        arrayFullLock.wait()\n",
    "        arrayFullLock.clear()\n",
    "    arraysize.acquire()\n",
    "    data.append(i)\n",
    "    print(f'producer produced {i}')\n",
    "    availableSemaphore-=1\n",
    "    arrayEmptyLock.set()\n",
    "    \n",
    "def consumer():\n",
    "    global availableSemaphore\n",
    "    global data\n",
    "    for i in range(5):\n",
    "      if(availableSemaphore==0):\n",
    "        arrayFullLock.wait()\n",
    "        arrayFullLock.clear()\n",
    "        arraysize.release()\n",
    "        a=data.pop()\n",
    "      print(f'consumer consumed {i}')\n",
    "      availableSemaphore+=1\n",
    "      arrayFullLock.set()\n",
    "      \n",
    "      \n",
    "t1=threading.Thread(target=producer)\n",
    "t2=threading.Thread(target=consumer)\n",
    "t1.start()\n",
    "t2.start()\n",
    "\n",
    "        "
   ]
  },
  {
   "cell_type": "markdown",
   "metadata": {},
   "source": [
    "3. We have a buffer of fixed size. A producer can produce an item and\n",
    "can place in the buffer. A consumer can pick items and can consume them. We need to\n",
    "ensure that when a producer is placing an item in the buffer, then at the same time\n",
    "consumer should not consume any item. In this problem, buffer is the critical section.\n",
    "To solve this problem, we need two counting semaphores – Full and Empty. “Full” keeps\n",
    "track of number of items in the buffer at any given time and “Empty” keeps track of number\n",
    "of unoccupied slots."
   ]
  },
  {
   "cell_type": "code",
   "execution_count": null,
   "metadata": {},
   "outputs": [
    {
     "name": "stdout",
     "output_type": "stream",
     "text": [
      "producer produced 4consumer consumed 0\n",
      "\n"
     ]
    },
    {
     "name": "stderr",
     "output_type": "stream",
     "text": [
      "Exception in thread Thread-56:\n",
      "Traceback (most recent call last):\n",
      "  File \"c:\\Users\\karti\\AppData\\Local\\Programs\\Python\\Python39\\lib\\threading.py\", line 973, in _bootstrap_inner\n",
      "    self.run()\n",
      "  File \"c:\\Users\\karti\\AppData\\Local\\Programs\\Python\\Python39\\lib\\threading.py\", line 910, in run\n",
      "    self._target(*self._args, **self._kwargs)\n",
      "  File \"C:\\Users\\karti\\AppData\\Local\\Temp\\ipykernel_29356\\3473265227.py\", line 38, in consumer\n",
      "RuntimeError: cannot release un-acquired lock\n"
     ]
    }
   ],
   "source": [
    "import time \n",
    "import threading\n",
    "arraysize = threading.Semaphore(5)\n",
    "availableSemaphore =5\n",
    "data=[]\n",
    "mainlock=threading.RLock()\n",
    "arrayEmptyLock = threading.Event()\n",
    "arrayFullLock = threading.Event()\n",
    "\n",
    "def producer():\n",
    "    global availableSemaphore\n",
    "    global data\n",
    "    global mainlock\n",
    "    for i in range(5):\n",
    "      if(availableSemaphore==0):\n",
    "        arrayFullLock.wait()\n",
    "        arrayFullLock.clear()\n",
    "    mainlock.acquire()\n",
    "    data.append(i)\n",
    "    print(f'producer produced {i}')\n",
    "    availableSemaphore-=1\n",
    "    mainlock.release()\n",
    "    time.sleep(5)\n",
    "    arrayEmptyLock.set()\n",
    "    \n",
    "    \n",
    "def consumer():\n",
    "    global availableSemaphore\n",
    "    global data\n",
    "    for i in range(5):\n",
    "      if(availableSemaphore==0):\n",
    "        arrayFullLock.wait()\n",
    "        arrayFullLock.clear()\n",
    "        mainlock.acquire()\n",
    "        a=data.pop()\n",
    "      print(f'consumer consumed {i}')\n",
    "      availableSemaphore+=1\n",
    "      mainlock.release()\n",
    "      time.sleep(3)\n",
    "      arrayFullLock.set()\n",
    "      \n",
    "      \n",
    "t1=threading.Thread(target=producer)\n",
    "t2=threading.Thread(target=consumer)\n",
    "t1.start()\n",
    "t2.start()\n",
    "\n",
    "        "
   ]
  }
 ],
 "metadata": {
  "interpreter": {
   "hash": "bd19f04c773f710849970b211d9c3ec59908286a489da34ddbf415e7538a68c0"
  },
  "kernelspec": {
   "display_name": "Python 3.9.12 64-bit",
   "language": "python",
   "name": "python3"
  },
  "language_info": {
   "codemirror_mode": {
    "name": "ipython",
    "version": 3
   },
   "file_extension": ".py",
   "mimetype": "text/x-python",
   "name": "python",
   "nbconvert_exporter": "python",
   "pygments_lexer": "ipython3",
   "version": "3.9.12"
  },
  "orig_nbformat": 4
 },
 "nbformat": 4,
 "nbformat_minor": 2
}
