{
  "cells": [
    {
      "cell_type": "markdown",
      "source": [
        "1. Write a Python class named SRMIST with six attributes school,\n",
        "dept1, dept2, dept2 and dept3. Add a new attribute specialization and\n",
        "display the entire attribute and their values of the said class. Now remove\n",
        "the dept1 and dept2 attribute and display the entire attribute with values."
      ],
      "metadata": {
        "id": "5fR95Iy1AcmF"
      }
    },
    {
      "cell_type": "code",
      "execution_count": null,
      "metadata": {
        "id": "rvhTMmQBALKE",
        "outputId": "790ea0bc-edb6-4f4d-a229-58374ca4c12b"
      },
      "outputs": [
        {
          "name": "stdout",
          "output_type": "stream",
          "text": [
            "\n",
            "----Original Attributes---\n",
            "school -> SRMIST\n",
            "dept1 -> Computer Science\n",
            "dept2 -> Artificial Intelligence\n",
            "dept3 -> Mechanical Engineering\n",
            "dept4 -> Biotechnology\n",
            "\n",
            "---adding specialization---\n",
            "school -> SRMIST\n",
            "dept1 -> Computer Science\n",
            "dept2 -> Artificial Intelligence\n",
            "dept3 -> Mechanical Engineering\n",
            "dept4 -> Biotechnology\n",
            "specialization -> Internet of Things\n",
            "\n",
            "---Deleting dept1 and dept2---\n",
            "school -> SRMIST\n",
            "dept3 -> Mechanical Engineering\n",
            "dept4 -> Biotechnology\n",
            "specialization -> Internet of Things\n"
          ]
        }
      ],
      "source": [
        "#1\n",
        "class SRMIST:\n",
        "    school=\"SRMIST\"\n",
        "    dept1=\"Computer Science\"\n",
        "    dept2=\"Artificial Intelligence\"\n",
        "    dept3=\"Mechanical Engineering\"\n",
        "    dept4=\"Biotechnology\"\n",
        "\n",
        "def prinAttributes(className):\n",
        "    for attr,value in className.__dict__.items():\n",
        "        if not attr.startswith('_'):\n",
        "            print(f'{attr} -> {value}')\n",
        "print(\"\\n----Original Attributes---\")\n",
        "prinAttributes(SRMIST)\n",
        "\n",
        "print(\"\\n---adding specialization---\")\n",
        "SRMIST.specialization = \"Internet of Things\"\n",
        "\n",
        "prinAttributes(SRMIST)   \n",
        "\n",
        "print(\"\\n---Deleting dept1 and dept2---\")\n",
        "del SRMIST.dept1\n",
        "del SRMIST.dept2\n",
        "\n",
        "prinAttributes(SRMIST) \n",
        "    \n",
        "    \n",
        "    "
      ]
    },
    {
      "cell_type": "markdown",
      "source": [
        "2. Write a Python program to crate four empty classes, CTECH,\n",
        "CINTEL, NWC and DSBS. Now create some instances and check\n",
        "whether they are instances of the said classes or not. Also, check whether\n",
        "the said classes are subclasses of the built-in object class or not."
      ],
      "metadata": {
        "id": "KRlArTtyAlGI"
      }
    },
    {
      "cell_type": "code",
      "execution_count": null,
      "metadata": {
        "id": "Cmi4qHpUALKX",
        "outputId": "7c0f2a11-97d4-43f8-be37-190a611f4946"
      },
      "outputs": [
        {
          "name": "stdout",
          "output_type": "stream",
          "text": [
            "True\n",
            "False\n",
            "False\n",
            "False\n",
            "True\n",
            "False\n",
            "False\n",
            "False\n",
            "\n",
            "Check whether the said classes are subclasses of the built-in object class or not.\n",
            "True\n",
            "True\n",
            "True\n",
            "True\n"
          ]
        }
      ],
      "source": [
        "#2\n",
        "class CTECH:\n",
        "    pass \n",
        "class CINTEL:\n",
        "    pass \n",
        "class NWC:\n",
        "    pass \n",
        "\n",
        "class DSBS:\n",
        "    pass \n",
        "\n",
        "student1 = CTECH()\n",
        "marks1 = CINTEL()\n",
        "stu=NWC()\n",
        "ma=DSBS()\n",
        "\n",
        "print(isinstance(student1, CTECH))\n",
        "print(isinstance(marks1, CTECH))\n",
        "print(isinstance(stu, CTECH))\n",
        "print(isinstance(ma, CTECH))\n",
        "\n",
        "print(isinstance(marks1, CINTEL)) \n",
        "print(isinstance(student1, CINTEL))\n",
        "print(isinstance(stu, CINTEL))\n",
        "print(isinstance(ma, CINTEL))\n",
        "\n",
        "print(\"\\nCheck whether the said classes are subclasses of the built-in object class or not.\")\n",
        "print(issubclass(CTECH, object))\n",
        "print(issubclass(CINTEL, object))\n",
        "print(issubclass(NWC, object))\n",
        "print(issubclass(DSBS, object))"
      ]
    },
    {
      "cell_type": "markdown",
      "source": [
        "3. Write a program to print the names of the departments students by\n",
        "creating a Dept class. If no name is passed while creating an object of the\n",
        "Dept class, then the name should be &quot;SCO&quot;, otherwise the name should\n",
        "be equal to the String value passed while creating the object of the Dept\n",
        "class."
      ],
      "metadata": {
        "id": "cLgn3CcOArgT"
      }
    },
    {
      "cell_type": "code",
      "execution_count": null,
      "metadata": {
        "id": "wflVIMkJALKb",
        "outputId": "2718ca15-6a87-4b69-ea2c-f1011a9ea7cc"
      },
      "outputs": [
        {
          "name": "stdout",
          "output_type": "stream",
          "text": [
            "CSE\n",
            "SCO\n"
          ]
        }
      ],
      "source": [
        "#3\n",
        "class Department:\n",
        "    def __init__(self,*args):\n",
        "        if(len(args)==1):\n",
        "            self.dept=args[0]\n",
        "        elif len(args)==0:\n",
        "            self.dept=\"SCO\"\n",
        "    def getDeptName(self):\n",
        "        return self.dept\n",
        "    \n",
        "depart= Department(\"CSE\")\n",
        "print(depart.getDeptName())\n",
        "\n",
        "depart1= Department()\n",
        "print(depart1.getDeptName())\n"
      ]
    },
    {
      "cell_type": "markdown",
      "source": [
        "4. Create a class named &#39;Rectangle&#39; with two data members- length\n",
        "and breadth and a function to calculate the area which is &#39;length*breadth&#39;.\n",
        "The class has three constructors which are :\n",
        "1 - having no parameter - values of both length and breadth are assigned\n",
        "zero.\n",
        "2 - having two numbers as parameters - the two numbers are assigned as\n",
        "length and breadth respectively.\n",
        "3 - having one number as parameter - both length and breadth are\n",
        "assigned that number.\n",
        "Now, create objects of the &#39;Rectangle&#39; class having none, one and two\n",
        "parameters and print their areas."
      ],
      "metadata": {
        "id": "ghuPOOgqBE5s"
      }
    },
    {
      "cell_type": "code",
      "execution_count": null,
      "metadata": {
        "id": "Fv8l2zM8ALKd",
        "outputId": "4545397c-60f3-4acc-b3e7-185544e97e6a"
      },
      "outputs": [
        {
          "name": "stdout",
          "output_type": "stream",
          "text": [
            "The area of the rectangle r1 is 0\n",
            "The area of the rectangle r2 is 1\n",
            "The area of the rectangle r3 is 24\n"
          ]
        }
      ],
      "source": [
        "#4\n",
        "class Rectangle:\n",
        "    def __init__(self, length=None,  breadth=None):\n",
        "        if length is None:\n",
        "            self._length =  0\n",
        "            self._breadth = 0\n",
        "        else:\n",
        "            self._length = length\n",
        "        if breadth is None:\n",
        "            self._breadth = self._length\n",
        "        else:\n",
        "            self._breadth = breadth\n",
        "\n",
        "    def area(self):\n",
        "        return self._length * self._breadth\n",
        "    \n",
        "r1 = Rectangle()\n",
        "r2 = Rectangle(1)\n",
        "r3 = Rectangle(2, 12)\n",
        "\n",
        "print('The area of the rectangle r1 is', r1.area())\n",
        "print('The area of the rectangle r2 is', r2.area())\n",
        "print('The area of the rectangle r3 is', r3.area())\n"
      ]
    },
    {
      "cell_type": "markdown",
      "source": [
        "5. Create a class named &#39;PrintDT&#39; to print various numbers of\n",
        "different datatypes by creating different functions with the same name\n",
        "&#39;python_data’ having a parameter for each datatype. (example : tuple, list,\n",
        "string)"
      ],
      "metadata": {
        "id": "TVHG_hpGBNzN"
      }
    },
    {
      "cell_type": "code",
      "execution_count": null,
      "metadata": {
        "id": "Tk5SBvB5ALKg",
        "outputId": "f099c8da-9268-49fd-daf6-5f236ec14149"
      },
      "outputs": [
        {
          "name": "stdout",
          "output_type": "stream",
          "text": [
            "[1, 2, 3]\n",
            "('a', [8, 4, 6], 'mouse')\n",
            "het_there\n"
          ]
        }
      ],
      "source": [
        "#5\n",
        "class PrintDT:\n",
        "    def python_data(self,list):\n",
        "        self.list=[]\n",
        "        print(list)\n",
        "        \n",
        "    def python_data(self,tuple):\n",
        "        self.tuple=()\n",
        "        print(tuple)\n",
        "    \n",
        "    def python_data(self,str):\n",
        "        self.str=\"\"\n",
        "        print(str)\n",
        "    \n",
        "prin = PrintDT()\n",
        "\n",
        "prin.python_data([1,2,3])\n",
        "prin.python_data(('a',[8,4,6],\"mouse\"))\n",
        "prin.python_data('het_there')"
      ]
    },
    {
      "cell_type": "markdown",
      "source": [
        "6. A student from SRMIST has his/her money deposited Rs.15000,\n",
        "Rs.30000 and Rs. 40,000 in banks-CUB, HDFC and Indian Bank\n",
        "respectively. We have to print the money deposited by him/her in a\n",
        "particular bank.\n",
        "Create a class named &#39;Banks_SRMIST&#39; with a function &#39;getBalance&#39;\n",
        "which returns 0. Make its three subclasses named &#39;CUB&#39;, &#39;HDFC&#39; and\n",
        "&#39;Indian_Bank&#39; with a function with the same name &#39;getBalance&#39; which\n",
        "returns the amount deposited in that particular bank. Call the function\n",
        "&#39;getBalance&#39; by the object of each of the three banks."
      ],
      "metadata": {
        "id": "L-N9TxOPBT3J"
      }
    },
    {
      "cell_type": "code",
      "execution_count": null,
      "metadata": {
        "id": "-ZtGMAmzALKj",
        "outputId": "708c6ec0-908e-4d27-cb68-d8b3c1ac0a6d"
      },
      "outputs": [
        {
          "name": "stdout",
          "output_type": "stream",
          "text": [
            "CUB -> 15000\n",
            "HDFC -> 30000\n",
            "Indian Bank -> 40000\n"
          ]
        }
      ],
      "source": [
        "#6\n",
        "class Banks_SRMIST:\n",
        "    def getBalance():\n",
        "        return 0\n",
        "class CUB(Banks_SRMIST):\n",
        "    def getBalance(balance):\n",
        "        return balance\n",
        "class HDFC(Banks_SRMIST):\n",
        "    def getBalance(balance):\n",
        "        return balance\n",
        "class Indian_Bank(Banks_SRMIST):\n",
        "    def getBalance(balance):\n",
        "        return balance\n",
        "    \n",
        "Banks_SRMIST()\n",
        "\n",
        "print('CUB -> '  f'{CUB.getBalance(15000)}')\n",
        "print('HDFC -> ' f'{HDFC.getBalance(30000)}')\n",
        "print('Indian Bank -> ' f'{Indian_Bank.getBalance(40000)}')"
      ]
    },
    {
      "cell_type": "markdown",
      "source": [
        "7. Create a Time class and initialize it with hours and minutes.\n",
        "\n",
        "* Make a method addTime which should take two time object and add\n",
        "them. E.g.- (2 hour and 50 min)+(1 hr and 20 min) is (4 hr and 10 min)\n",
        "* Make a method displayTime which should print the time.\n",
        "* Make a method DisplayMinute which should display the total minutes\n",
        "in the Time. E.g.- (1 hr 2 min) should display 62 minute.\n",
        "\n",
        "\n",
        "\n"
      ],
      "metadata": {
        "id": "hUmcJKgDBZ4L"
      }
    },
    {
      "cell_type": "code",
      "execution_count": null,
      "metadata": {
        "id": "Cz21QGlRALKl",
        "outputId": "b4b85fb3-b8f4-4209-e6af-166354587f80"
      },
      "outputs": [
        {
          "name": "stdout",
          "output_type": "stream",
          "text": [
            "Time is 4 hours and 10 minutes\n",
            "Time in minutes is 250\n"
          ]
        }
      ],
      "source": [
        "#7\n",
        "class Time:\n",
        "    def __init__(self,hours,mins):\n",
        "        self.hours=hours\n",
        "        self.mins=mins\n",
        "    def addTime(time1,time2):\n",
        "        time3 = Time(0,0)\n",
        "        time3.hours=time1.hours+time2.hours\n",
        "        time3.mins = time1.mins+time2.mins\n",
        "        if time3.mins>60:\n",
        "            time3.mins-=60\n",
        "            time3.hours+=1\n",
        "        return time3\n",
        "    \n",
        "    def displayTime(self):\n",
        "        print(f\"Time is {self.hours} hours and {self.mins} minutes\")\n",
        "        \n",
        "    def DisplayMinute(self):\n",
        "        tot_mins=self.hours*60+self.mins\n",
        "        print(f\"Time in minutes is {tot_mins}\")\n",
        "        \n",
        "a = Time(2,40)\n",
        "b = Time(1,30)\n",
        "c = Time.addTime(a,b)\n",
        "c.displayTime()\n",
        "c.DisplayMinute()"
      ]
    },
    {
      "cell_type": "markdown",
      "source": [
        "8. Write a program to print the area and perimeter of a triangle having\n",
        "sides of 3, 4 and 5 units by creating a class named &#39;Triangle&#39; with a\n",
        "function to print the area and perimeter."
      ],
      "metadata": {
        "id": "mWp5rDRzBt9K"
      }
    },
    {
      "cell_type": "code",
      "execution_count": null,
      "metadata": {
        "id": "xOGFw1N_ALKp",
        "outputId": "04aa4552-e3ef-412f-cdbc-afad90290202"
      },
      "outputs": [
        {
          "name": "stdout",
          "output_type": "stream",
          "text": [
            "Area is -> 7973.4375\n",
            "Perimeter of trangle is -> 45\n"
          ]
        }
      ],
      "source": [
        "#8\n",
        "class Triangle:\n",
        "    def __init__(self,side1,side2,side3):\n",
        "        self.side1=side1\n",
        "        self.side2=side2\n",
        "        self.side3=side3\n",
        "        \n",
        "    def calPerimeter(self):\n",
        "        self.perimeter= self.side1+self.side2+self.side3\n",
        "    \n",
        "    def calArea(self):\n",
        "        s=(self.side1+self.side2+self.side3)/2\n",
        "        self.area = (s*(s-self.side1)*(s-self.side2)*(s-self.side3))\n",
        "        \n",
        "    def displayInfo(self):\n",
        "        print(f'Area is -> {self.area}\\nPerimeter of trangle is -> {self.perimeter}')\n",
        "        \n",
        "        \n",
        "triangle = Triangle(12,15,18)\n",
        "\n",
        "triangle.calPerimeter()\n",
        "triangle.calArea()\n",
        "\n",
        "triangle.displayInfo()"
      ]
    }
  ],
  "metadata": {
    "interpreter": {
      "hash": "8d1942abd057456d262dcfa9360a4daaed889b986cec42f0eaa405f4d7997a30"
    },
    "kernelspec": {
      "display_name": "Python 3.9.7 ('base')",
      "language": "python",
      "name": "python3"
    },
    "language_info": {
      "codemirror_mode": {
        "name": "ipython",
        "version": 3
      },
      "file_extension": ".py",
      "mimetype": "text/x-python",
      "name": "python",
      "nbconvert_exporter": "python",
      "pygments_lexer": "ipython3",
      "version": "3.9.7"
    },
    "orig_nbformat": 4,
    "colab": {
      "name": "week3.ipynb",
      "provenance": []
    }
  },
  "nbformat": 4,
  "nbformat_minor": 0
}