{
  "cells": [
    {
      "cell_type": "markdown",
      "source": [
        "1. Given a string, find its mirroring image\n",
        "\n",
        "\n"
      ],
      "metadata": {
        "id": "AHRQJ0zi_-ol"
      }
    },
    {
      "cell_type": "code",
      "execution_count": null,
      "metadata": {
        "id": "FrK_IVWi_qSq",
        "outputId": "e48b7a3e-b1d7-4bbd-8a50-f3fef9b12639"
      },
      "outputs": [
        {
          "name": "stdout",
          "output_type": "stream",
          "text": [
            "The original string is : void\n",
            "The mirror string : voib\n"
          ]
        }
      ],
      "source": [
        "\n",
        "#1\n",
        "test_str = input()\n",
        "\n",
        "# printing original string\n",
        "print(\"The original string is : \" + (test_str))\n",
        "\n",
        "# initializing mirror dictionary\n",
        "mir_dict = {'b':'d', 'd':'b', 'i':'i', 'o':'o', 'v':'v', 'w':'w', 'x':'x'}\n",
        "res = ''\n",
        "\n",
        "# accessing letters from dictionary\n",
        "for ele in test_str:\n",
        "\tif ele in mir_dict:\n",
        "\t\tres += mir_dict[ele]\n",
        "\t\n",
        "\t# if any character not present, flagging to be invalid\n",
        "\telse:\n",
        "\t\tres = \"Not Possible\"\n",
        "\t\tbreak\n",
        "\n",
        "# printing result\n",
        "print(\"The mirror string : \" + (res))\n"
      ]
    },
    {
      "cell_type": "markdown",
      "source": [
        "2. Check if two strings are Rotationally Equivalent\n",
        "Sample Output\n",
        "string 1 is : srmist\n",
        "string 2 is : tsrmis\n",
        "Are two strings Rotationally equal ? : True"
      ],
      "metadata": {
        "id": "p9zYXeju_4TL"
      }
    },
    {
      "cell_type": "code",
      "execution_count": null,
      "metadata": {
        "id": "eV9hoc4y_qS1"
      },
      "outputs": [],
      "source": [
        "#2\n",
        "test_str1 = 'geeks'\n",
        "test_str2 = 'eksge'\n",
        "  \n",
        "\n",
        "print(\"The original string 1 is : \" + str(test_str1))\n",
        "print(\"The original string 2 is : \" + str(test_str2))\n",
        "  \n",
        "res = False\n",
        "for idx in range(len(test_str1)):\n",
        "        if test_str1[idx: ] + test_str1[ :idx] == test_str2:\n",
        "            res = True\n",
        "            break\n",
        "print(\"Are two strings Rotationally equal ? : \" + str(res))"
      ]
    },
    {
      "cell_type": "markdown",
      "source": [
        "3. Given a number n, the task is to generate a random binary string of length n."
      ],
      "metadata": {
        "id": "ne1jDm9G_xcm"
      }
    },
    {
      "cell_type": "code",
      "execution_count": null,
      "metadata": {
        "id": "E2Xsa-Jo_qS3",
        "outputId": "3f3e9248-164d-4147-929a-17c729aa653d"
      },
      "outputs": [
        {
          "name": "stdout",
          "output_type": "stream",
          "text": [
            "01110001\n"
          ]
        }
      ],
      "source": [
        "#3\n",
        "import random\n",
        "\n",
        "len = int(input(\"Length of binary string: \"))\n",
        "binary=\"\"\n",
        "\n",
        "\n",
        "for i in  range(len):\n",
        "    temp = f'{random.randint(0,1)}'\n",
        "    binary+=temp\n",
        "print(binary)\n"
      ]
    },
    {
      "cell_type": "markdown",
      "source": [
        "4. Given a string, remove punctuation and any special characters."
      ],
      "metadata": {
        "id": "3Q1FLjZ8_lwb"
      }
    },
    {
      "cell_type": "code",
      "execution_count": null,
      "metadata": {
        "id": "2PZvwbGp_qS5",
        "outputId": "43e22a7c-e61b-4de5-bc9e-d25dec872588"
      },
      "outputs": [
        {
          "name": "stdout",
          "output_type": "stream",
          "text": [
            "the cat is here\n"
          ]
        }
      ],
      "source": [
        "#4\n",
        "str = input()\n",
        "res = \"\"\n",
        "for i in str:\n",
        "    if(i.isalnum() or i==\" \"):\n",
        "        res+=i\n",
        "print(res)"
      ]
    },
    {
      "cell_type": "markdown",
      "source": [
        "5. Write a Python program to compute element-wise sum of given tuples."
      ],
      "metadata": {
        "id": "-JTZAfKe_ftS"
      }
    },
    {
      "cell_type": "code",
      "execution_count": null,
      "metadata": {
        "id": "KaP3tJxS_qS7",
        "outputId": "b21658ea-b335-44cf-e84e-0b235bebb654"
      },
      "outputs": [
        {
          "name": "stdout",
          "output_type": "stream",
          "text": [
            "Original lists:\n",
            "(9, 2, 3, 4)\n",
            "(3, 5, 2, 1)\n",
            "(2, 2, 3, 1)\n",
            "\n",
            "Element-wise sum of the said tuples:\n",
            "(14, 9, 8, 6)\n"
          ]
        }
      ],
      "source": [
        "#5\n",
        "x = (9,2,3,4)\n",
        "y = (3,5,2,1)\n",
        "z = (2,2,3,1)\n",
        "print(\"Original lists:\")\n",
        "print(x)\n",
        "print(y)\n",
        "print(z)\n",
        "print(\"\\nElement-wise sum of the said tuples:\")\n",
        "result = tuple(map(sum, zip(x, y, z)))\n",
        "print(result)"
      ]
    },
    {
      "cell_type": "markdown",
      "source": [
        "6. Write a Python program to remove an empty tuple(s) from a list of tuples."
      ],
      "metadata": {
        "id": "dAVDNtsU_bhP"
      }
    },
    {
      "cell_type": "code",
      "execution_count": null,
      "metadata": {
        "id": "8IvWIDuX_qS9",
        "outputId": "590f7d50-bf23-4f3f-ebf4-6094b6f539ed"
      },
      "outputs": [
        {
          "name": "stdout",
          "output_type": "stream",
          "text": [
            "[('',), ('a', 'b'), ('a', 'b', 'c'), 'd']\n"
          ]
        }
      ],
      "source": [
        "#6\n",
        "L = [(), (), ('',), ('a', 'b'), ('a', 'b', 'c'), ('d')]\n",
        "L = [t for t in L if t]\n",
        "print(L)"
      ]
    },
    {
      "cell_type": "markdown",
      "source": [
        "7. Write a Python program to count the elements in a list until an element is a\n",
        "tuple"
      ],
      "metadata": {
        "id": "RLejSbvu_V23"
      }
    },
    {
      "cell_type": "code",
      "execution_count": null,
      "metadata": {
        "id": "Tf6UrrnJ_qS-",
        "outputId": "c8cf4346-0261-407d-a855-c711dc4f3610"
      },
      "outputs": [
        {
          "name": "stdout",
          "output_type": "stream",
          "text": [
            "3\n"
          ]
        }
      ],
      "source": [
        "#7\n",
        "num = [10,20,30,(10,20),40]\n",
        "ctr = 0\n",
        "for n in num:\n",
        "    if isinstance(n, tuple):\n",
        "        break\n",
        "    ctr += 1\n",
        "print(ctr)"
      ]
    },
    {
      "cell_type": "markdown",
      "source": [
        "8. Write a Python program to Convert Tuple Matrix to Tuple List\n",
        "Sample Input : [[(9, 51), (7, 9)], [(11, 1), (22, 19)]]\n",
        "Output : [(9, 7, 11, 22), (51, 9, 1, 19)]\n",
        "\n"
      ],
      "metadata": {
        "id": "uparG3Ly-8nv"
      }
    },
    {
      "cell_type": "code",
      "execution_count": null,
      "metadata": {
        "id": "LpEr01ML_qTA",
        "outputId": "038f0e4f-ea87-40c3-9e7d-c35bdd1ab48a"
      },
      "outputs": [
        {
          "name": "stdout",
          "output_type": "stream",
          "text": [
            "[(4, 7, 10, 18, 0, 10), (5, 8, 13, 17, 4, 1)]\n"
          ]
        }
      ],
      "source": [
        "#8\n",
        "test_list = [[(4, 5), (7, 8)], [(10, 13), (18, 17)], [(0, 4), (10, 1)]]\n",
        "  \n",
        "  \n",
        "# flattening \n",
        "temp = [ele for sub in test_list for ele in sub]\n",
        "  \n",
        "# joining to form column pairs\n",
        "res = list(zip(*temp))\n",
        "  \n",
        "# printing result \n",
        "print(res)"
      ]
    },
    {
      "cell_type": "markdown",
      "source": [
        "9. Write a Python program to count unique values in the list."
      ],
      "metadata": {
        "id": "fBV6-2q2-28s"
      }
    },
    {
      "cell_type": "code",
      "execution_count": null,
      "metadata": {
        "id": "Ia8uMqtd_qTC",
        "outputId": "b4b8197f-bebb-4a40-9c56-4a1cc799c63e"
      },
      "outputs": [
        {
          "name": "stdout",
          "output_type": "stream",
          "text": [
            "No of unique items in the list are: 5\n"
          ]
        }
      ],
      "source": [
        "#9\n",
        "input_list = [1, 2, 2, 5, 8, 4, 4, 8]\n",
        "\n",
        "# converting our list to set\n",
        "new_set = set(input_list)\n",
        "count=0\n",
        "for i in new_set:\n",
        "    count+=1\n",
        "print(\"No of unique items in the list are:\", count)\n"
      ]
    },
    {
      "cell_type": "markdown",
      "source": [
        "10. Python Program to print all Possible Combinations from the three Digits"
      ],
      "metadata": {
        "id": "WKZPFU69-xdb"
      }
    },
    {
      "cell_type": "code",
      "execution_count": null,
      "metadata": {
        "id": "AhZIqwk__qTF",
        "outputId": "1ee744ff-c60e-46f0-fc58-50e0c0abf0d2"
      },
      "outputs": [
        {
          "name": "stdout",
          "output_type": "stream",
          "text": [
            "3 2 4\n",
            "3 4 2\n",
            "2 3 4\n",
            "2 4 3\n",
            "4 3 2\n",
            "4 2 3\n"
          ]
        }
      ],
      "source": [
        "#10\n",
        "list =[3,2,4]\n",
        "\n",
        "for i in range(3):\n",
        "    for j in range(3):\n",
        "        for k in range (3):\n",
        "            if(i!=j and j!=k and k!=i):\n",
        "                print(list[i], list[j], list[k])"
      ]
    },
    {
      "cell_type": "markdown",
      "source": [
        "11. Write a Python program (using function) to print the even numbers from a\n",
        "given list.\n",
        "Note : function type - with arguments but no return values"
      ],
      "metadata": {
        "id": "TCWv-hcj-p22"
      }
    },
    {
      "cell_type": "code",
      "execution_count": null,
      "metadata": {
        "id": "9-rNZSSp_qTH",
        "outputId": "6194741c-a290-4782-df43-9ece47ff93a1"
      },
      "outputs": [
        {
          "name": "stdout",
          "output_type": "stream",
          "text": [
            "2, 4, 8, 10, "
          ]
        }
      ],
      "source": [
        "#11\n",
        "def printEv(list):\n",
        "    for i in list:\n",
        "        if i %2==0:\n",
        "            print(i,end=\", \")\n",
        "            \n",
        "list1=[2,3,4,8,10,15]\n",
        "printEv(list1)"
      ]
    },
    {
      "cell_type": "markdown",
      "source": [
        "12. Write a Python function (using function) that checks whether a passed string is\n",
        "palindrome or not.\n",
        "Note : function type - No arguments with return values"
      ],
      "metadata": {
        "id": "mvu_EL4p-nlb"
      }
    },
    {
      "cell_type": "code",
      "execution_count": null,
      "metadata": {
        "id": "33Gn7GfG_qTI",
        "outputId": "07f48102-fd42-4a15-a321-22cd63691264"
      },
      "outputs": [
        {
          "name": "stdout",
          "output_type": "stream",
          "text": [
            "Palindrome\n"
          ]
        }
      ],
      "source": [
        "#12\n",
        "def checkPalin(str):\n",
        "    if(str==str[::-1]):\n",
        "        return True\n",
        "    else:\n",
        "        return False\n",
        "    \n",
        "str=input()\n",
        "if(checkPalin(str)):\n",
        "    print(\"Palindrome\")\n",
        "else:\n",
        "    print(\"Not Palindrome\")"
      ]
    },
    {
      "cell_type": "markdown",
      "source": [
        "13. Write a Python function (using function) that checks whether a given number\n",
        "is prime or not\n",
        "Note : function type - with arguments with return values"
      ],
      "metadata": {
        "id": "ZZuZ-s7M-iiP"
      }
    },
    {
      "cell_type": "code",
      "execution_count": null,
      "metadata": {
        "id": "L7qvBAGt_qTJ",
        "outputId": "e2cfc476-3fae-4656-d1fb-f5b0c3e85753"
      },
      "outputs": [
        {
          "name": "stdout",
          "output_type": "stream",
          "text": [
            "7 is a prime number\n"
          ]
        }
      ],
      "source": [
        "#13\n",
        "def checkPrime(num):\n",
        "    if num > 1:\n",
        "  \n",
        "    # Iterate from 2 to n / 2\n",
        "        for i in range(2, int(num/2)+1):\n",
        "  \n",
        "        # If num is divisible by any number between\n",
        "        # 2 and n / 2, it is not prime\n",
        "            if (num % i) == 0:\n",
        "                print(num, \"is not a prime number\")\n",
        "                break\n",
        "        else:\n",
        "            print(num, \"is a prime number\")\n",
        "  \n",
        "    else:\n",
        "        print(num, \"is not a prime number\")\n",
        "    \n",
        "n =int(input())\n",
        "checkPrime(n)"
      ]
    }
  ],
  "metadata": {
    "interpreter": {
      "hash": "8d1942abd057456d262dcfa9360a4daaed889b986cec42f0eaa405f4d7997a30"
    },
    "kernelspec": {
      "display_name": "Python 3.9.7 ('base')",
      "language": "python",
      "name": "python3"
    },
    "language_info": {
      "codemirror_mode": {
        "name": "ipython",
        "version": 3
      },
      "file_extension": ".py",
      "mimetype": "text/x-python",
      "name": "python",
      "nbconvert_exporter": "python",
      "pygments_lexer": "ipython3",
      "version": "3.9.7"
    },
    "orig_nbformat": 4,
    "colab": {
      "name": "week2.ipynb",
      "provenance": []
    }
  },
  "nbformat": 4,
  "nbformat_minor": 0
}